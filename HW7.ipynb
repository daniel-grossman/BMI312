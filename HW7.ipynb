{
 "cells": [
  {
   "cell_type": "markdown",
   "id": "69e096e2",
   "metadata": {},
   "source": [
    "# HW 7 - Daniel Grossman"
   ]
  },
  {
   "cell_type": "markdown",
   "id": "a3dd46eb",
   "metadata": {},
   "source": [
    "Importing packages:"
   ]
  },
  {
   "cell_type": "code",
   "execution_count": 1,
   "id": "8ad1fe52",
   "metadata": {},
   "outputs": [],
   "source": [
    "import os\n",
    "import numpy as np\n",
    "import pandas as pd\n",
    "import statsmodels.api as sm\n",
    "import statsmodels.formula.api as smf"
   ]
  },
  {
   "cell_type": "markdown",
   "id": "062f2f08",
   "metadata": {},
   "source": [
    "Fixing directories and setting up data:"
   ]
  },
  {
   "cell_type": "code",
   "execution_count": 2,
   "id": "61c33e28",
   "metadata": {},
   "outputs": [],
   "source": [
    "os.chdir('/Users/danielgrossman/Documents/Coursework/BMI 312/Data/')\n",
    "\n",
    "laml = pd.read_csv('LAML.clinical_mut.txt', sep='\\t')\n",
    "dead = laml[laml.vital_status == 'dead'][['gender','race','age_at_diagnosis','tumor_stage_2','mut_cnt','months_to_death']]"
   ]
  },
  {
   "cell_type": "markdown",
   "id": "068ce065",
   "metadata": {},
   "source": [
    "Now let's make a bunch of linear regression models:"
   ]
  },
  {
   "cell_type": "code",
   "execution_count": 3,
   "id": "c3dc88e9",
   "metadata": {},
   "outputs": [],
   "source": [
    "#age_at_diagnosis vs. months_to_death\n",
    "agemodel = smf.ols('months_to_death ~ age_at_diagnosis', data=dead).fit()\n",
    "\n",
    "#gender vs. months_to_death\n",
    "gendermodel = smf.ols('months_to_death ~ gender', data=dead).fit()\n",
    "\n",
    "#log of mut_cnt vs. months_to_death\n",
    "dead['logmut'] = np.log(dead.mut_cnt)\n",
    "mutmodel = smf.ols('months_to_death ~ logmut', data=dead).fit()\n",
    "\n",
    "#multiple linear regression\n",
    "multimodel = smf.ols('months_to_death ~ age_at_diagnosis + gender + logmut', data=dead).fit()"
   ]
  },
  {
   "cell_type": "markdown",
   "id": "a3d7c02f",
   "metadata": {},
   "source": [
    "Let's compare model performance:"
   ]
  },
  {
   "cell_type": "code",
   "execution_count": 4,
   "id": "219d15fa",
   "metadata": {
    "scrolled": false
   },
   "outputs": [
    {
     "name": "stdout",
     "output_type": "stream",
     "text": [
      "                            OLS Regression Results                            \n",
      "==============================================================================\n",
      "Dep. Variable:        months_to_death   R-squared:                       0.070\n",
      "Model:                            OLS   Adj. R-squared:                  0.056\n",
      "Method:                 Least Squares   F-statistic:                     4.830\n",
      "Date:                Fri, 15 Apr 2022   Prob (F-statistic):             0.0316\n",
      "Time:                        14:38:13   Log-Likelihood:                -246.47\n",
      "No. Observations:                  66   AIC:                             496.9\n",
      "Df Residuals:                      64   BIC:                             501.3\n",
      "Df Model:                           1                                         \n",
      "Covariance Type:            nonrobust                                         \n",
      "====================================================================================\n",
      "                       coef    std err          t      P>|t|      [0.025      0.975]\n",
      "------------------------------------------------------------------------------------\n",
      "Intercept           21.8085      5.271      4.138      0.000      11.279      32.338\n",
      "age_at_diagnosis    -0.1848      0.084     -2.198      0.032      -0.353      -0.017\n",
      "==============================================================================\n",
      "Omnibus:                       28.121   Durbin-Watson:                   1.984\n",
      "Prob(Omnibus):                  0.000   Jarque-Bera (JB):               45.458\n",
      "Skew:                           1.617   Prob(JB):                     1.35e-10\n",
      "Kurtosis:                       5.463   Cond. No.                         261.\n",
      "==============================================================================\n",
      "\n",
      "Notes:\n",
      "[1] Standard Errors assume that the covariance matrix of the errors is correctly specified.\n",
      "                            OLS Regression Results                            \n",
      "==============================================================================\n",
      "Dep. Variable:        months_to_death   R-squared:                       0.039\n",
      "Model:                            OLS   Adj. R-squared:                  0.024\n",
      "Method:                 Least Squares   F-statistic:                     2.578\n",
      "Date:                Fri, 15 Apr 2022   Prob (F-statistic):              0.113\n",
      "Time:                        14:38:13   Log-Likelihood:                -247.57\n",
      "No. Observations:                  66   AIC:                             499.1\n",
      "Df Residuals:                      64   BIC:                             503.5\n",
      "Df Model:                           1                                         \n",
      "Covariance Type:            nonrobust                                         \n",
      "==================================================================================\n",
      "                     coef    std err          t      P>|t|      [0.025      0.975]\n",
      "----------------------------------------------------------------------------------\n",
      "Intercept         13.0481      2.013      6.482      0.000       9.027      17.069\n",
      "gender[T.male]    -4.2046      2.619     -1.606      0.113      -9.436       1.027\n",
      "==============================================================================\n",
      "Omnibus:                       23.811   Durbin-Watson:                   2.087\n",
      "Prob(Omnibus):                  0.000   Jarque-Bera (JB):               33.841\n",
      "Skew:                           1.462   Prob(JB):                     4.48e-08\n",
      "Kurtosis:                       4.939   Cond. No.                         2.89\n",
      "==============================================================================\n",
      "\n",
      "Notes:\n",
      "[1] Standard Errors assume that the covariance matrix of the errors is correctly specified.\n",
      "                            OLS Regression Results                            \n",
      "==============================================================================\n",
      "Dep. Variable:        months_to_death   R-squared:                       0.039\n",
      "Model:                            OLS   Adj. R-squared:                  0.024\n",
      "Method:                 Least Squares   F-statistic:                     2.575\n",
      "Date:                Fri, 15 Apr 2022   Prob (F-statistic):              0.114\n",
      "Time:                        14:38:13   Log-Likelihood:                -247.57\n",
      "No. Observations:                  66   AIC:                             499.1\n",
      "Df Residuals:                      64   BIC:                             503.5\n",
      "Df Model:                           1                                         \n",
      "Covariance Type:            nonrobust                                         \n",
      "==============================================================================\n",
      "                 coef    std err          t      P>|t|      [0.025      0.975]\n",
      "------------------------------------------------------------------------------\n",
      "Intercept      6.5840      2.794      2.356      0.022       1.002      12.166\n",
      "logmut         1.6407      1.022      1.605      0.114      -0.402       3.683\n",
      "==============================================================================\n",
      "Omnibus:                       28.478   Durbin-Watson:                   2.046\n",
      "Prob(Omnibus):                  0.000   Jarque-Bera (JB):               48.593\n",
      "Skew:                           1.579   Prob(JB):                     2.81e-11\n",
      "Kurtosis:                       5.773   Cond. No.                         6.57\n",
      "==============================================================================\n",
      "\n",
      "Notes:\n",
      "[1] Standard Errors assume that the covariance matrix of the errors is correctly specified.\n",
      "                            OLS Regression Results                            \n",
      "==============================================================================\n",
      "Dep. Variable:        months_to_death   R-squared:                       0.164\n",
      "Model:                            OLS   Adj. R-squared:                  0.124\n",
      "Method:                 Least Squares   F-statistic:                     4.064\n",
      "Date:                Fri, 15 Apr 2022   Prob (F-statistic):             0.0106\n",
      "Time:                        14:38:13   Log-Likelihood:                -242.95\n",
      "No. Observations:                  66   AIC:                             493.9\n",
      "Df Residuals:                      62   BIC:                             502.7\n",
      "Df Model:                           3                                         \n",
      "Covariance Type:            nonrobust                                         \n",
      "====================================================================================\n",
      "                       coef    std err          t      P>|t|      [0.025      0.975]\n",
      "------------------------------------------------------------------------------------\n",
      "Intercept           19.8568      5.179      3.834      0.000       9.505      30.209\n",
      "gender[T.male]      -2.3738      2.569     -0.924      0.359      -7.509       2.762\n",
      "age_at_diagnosis    -0.2257      0.088     -2.572      0.013      -0.401      -0.050\n",
      "logmut               2.4084      1.020      2.362      0.021       0.370       4.446\n",
      "==============================================================================\n",
      "Omnibus:                       29.304   Durbin-Watson:                   1.926\n",
      "Prob(Omnibus):                  0.000   Jarque-Bera (JB):               50.575\n",
      "Skew:                           1.625   Prob(JB):                     1.04e-11\n",
      "Kurtosis:                       5.798   Cond. No.                         267.\n",
      "==============================================================================\n",
      "\n",
      "Notes:\n",
      "[1] Standard Errors assume that the covariance matrix of the errors is correctly specified.\n"
     ]
    }
   ],
   "source": [
    "models = [agemodel, gendermodel, mutmodel, multimodel]\n",
    "for model in models:\n",
    "    print(model.summary())"
   ]
  },
  {
   "cell_type": "markdown",
   "id": "0f93b5da",
   "metadata": {},
   "source": [
    "The best model was our first: with a p-value of .03 (< the .05 threshold), 'age_at_diagnosis' best predicts 'months_to_death'"
   ]
  },
  {
   "cell_type": "markdown",
   "id": "7516ff24",
   "metadata": {},
   "source": [
    "### Does a higher 'mut_cnt' predict good or poor prognosis?"
   ]
  },
  {
   "cell_type": "code",
   "execution_count": 5,
   "id": "bdbeb832",
   "metadata": {},
   "outputs": [],
   "source": [
    "pred = mutmodel.predict(dead)"
   ]
  },
  {
   "cell_type": "code",
   "execution_count": 6,
   "id": "5165997b",
   "metadata": {},
   "outputs": [
    {
     "data": {
      "text/plain": [
       "[11.32619032016368,\n",
       " 10.660946961418071,\n",
       " 9.224572408669324,\n",
       " 10.361813441941512,\n",
       " 11.027056800687122,\n",
       " 10.518188091369455,\n",
       " 10.518188091369455,\n",
       " 11.499054475213697,\n",
       " 11.232410967901105,\n",
       " 8.858462569400274,\n",
       " 9.77661971517845,\n",
       " 9.224572408669324,\n",
       " 9.523705928145885,\n",
       " 11.32619032016368,\n",
       " 11.232410967901105,\n",
       " 11.499054475213697,\n",
       " 11.65542912464164,\n",
       " 10.913860748450636,\n",
       " 11.32619032016368,\n",
       " 10.518188091369455,\n",
       " 11.579104107196247,\n",
       " 6.583980502855902,\n",
       " 10.913860748450636,\n",
       " 12.051101781722823,\n",
       " 6.583980502855902,\n",
       " 11.798187994690258,\n",
       " 11.65542912464164,\n",
       " 10.913860748450636,\n",
       " 9.224572408669324,\n",
       " 9.77661971517845,\n",
       " 11.499054475213697,\n",
       " 11.414897977509835,\n",
       " 9.523705928145885,\n",
       " 10.361813441941512,\n",
       " 10.660946961418071,\n",
       " 11.232410967901105,\n",
       " 10.792272391476116,\n",
       " 11.499054475213697,\n",
       " 10.913860748450636,\n",
       " 6.583980502855902,\n",
       " 11.99143367890929,\n",
       " 11.499054475213697,\n",
       " 12.164297833959308,\n",
       " 7.7212215361280885,\n",
       " 6.583980502855902,\n",
       " 8.858462569400274,\n",
       " 7.7212215361280885,\n",
       " 10.518188091369455,\n",
       " 10.518188091369455,\n",
       " 18.03613525092861,\n",
       " 10.913860748450636,\n",
       " 7.7212215361280885,\n",
       " 8.386464894873699,\n",
       " 8.858462569400274,\n",
       " 11.232410967901105,\n",
       " 7.7212215361280885,\n",
       " 17.495040128972157,\n",
       " 7.7212215361280885,\n",
       " 11.32619032016368,\n",
       " 13.48258604173334,\n",
       " 10.188949286891495,\n",
       " 12.051101781722823,\n",
       " 10.660946961418071,\n",
       " 11.929513424748302,\n",
       " 11.414897977509835,\n",
       " 6.583980502855902,\n",
       " 12.218095833913527,\n",
       " 9.77661971517845,\n",
       " 9.99570360267246,\n",
       " 11.499054475213697,\n",
       " 7.7212215361280885,\n",
       " 10.660946961418071,\n",
       " 11.865164314482747,\n",
       " 11.232410967901105]"
      ]
     },
     "execution_count": 6,
     "metadata": {},
     "output_type": "execute_result"
    }
   ],
   "source": [
    "list(pred) #it depends??"
   ]
  }
 ],
 "metadata": {
  "kernelspec": {
   "display_name": "Python 3 (ipykernel)",
   "language": "python",
   "name": "python3"
  },
  "language_info": {
   "codemirror_mode": {
    "name": "ipython",
    "version": 3
   },
   "file_extension": ".py",
   "mimetype": "text/x-python",
   "name": "python",
   "nbconvert_exporter": "python",
   "pygments_lexer": "ipython3",
   "version": "3.9.12"
  }
 },
 "nbformat": 4,
 "nbformat_minor": 5
}
