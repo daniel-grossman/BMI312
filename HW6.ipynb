{
 "cells": [
  {
   "cell_type": "markdown",
   "id": "ff7c293a",
   "metadata": {},
   "source": [
    "# Grossman HW 6 - Hypothesis Testing"
   ]
  },
  {
   "cell_type": "markdown",
   "id": "a67b71ed",
   "metadata": {},
   "source": [
    "Loading in packages:"
   ]
  },
  {
   "cell_type": "code",
   "execution_count": 1,
   "id": "45c5820a",
   "metadata": {},
   "outputs": [],
   "source": [
    "import os\n",
    "import pandas as pd\n",
    "import matplotlib.pyplot as plt\n",
    "import scipy.stats as st\n",
    "import statsmodels as sm\n",
    "\n",
    "os.chdir('/Users/danielgrossman/Documents/Coursework/BMI 312/Data/')\n",
    "files = os.listdir('/Users/danielgrossman/Documents/Coursework/BMI 312/Data/')"
   ]
  },
  {
   "cell_type": "markdown",
   "id": "138fdef8",
   "metadata": {},
   "source": [
    "Looping thru each cancer gene and its mutations:"
   ]
  },
  {
   "cell_type": "code",
   "execution_count": null,
   "id": "4f8c17fb",
   "metadata": {},
   "outputs": [],
   "source": [
    "for f in files:\n",
    "    if (f.endswith('.somatic.maf.short.gz')):\n",
    "        print(f, '...')\n",
    "        \n",
    "        #read in obs/exp data\n",
    "        ss = pd.read_csv(f, sep='\\t', compression='gzip')\n",
    "        ge = pd.read_csv('gene_expected.txt', sep='\\t')\n",
    "        \n",
    "        #create gene name list\n",
    "        genes = list(set(ss.symbol))\n",
    "        \n",
    "        #create mutation type list\n",
    "        silent, notsilent = [], []\n",
    "        \n",
    "        #loop thru each gene and check mutation type counts\n",
    "        for gene in genes:\n",
    "            #create list of all mutations per gene\n",
    "            mutations = list(ss.loc[(ss.symbol == gene), 'var_class'])\n",
    "            \n",
    "            #add 'Silent' counts to list\n",
    "            silent.append(mutations.count('Silent'))\n",
    "            \n",
    "            #add notsilent counts to list\n",
    "            nscounts = len(mutations) - mutations.count('Silent')\n",
    "            notsilent.append(nscounts)\n",
    "        \n",
    "        #combine data into DF\n",
    "        mut_cnt = pd.DataFrame(list(zip(genes, silent, notsilent)), columns = ['symbol','obs_syn','obs_alt'])            \n",
    "        \n",
    "        #adding 'obs_fr' colummn\n",
    "        mut_cnt['obs_fr'] = mut_cnt.obs_alt/(mut_cnt.obs_syn + mut_cnt.obs_alt)\n",
    "        \n",
    "        #descending sort\n",
    "        des_mut_cnt = mut_cnt.sort_values(['obs_alt'], ascending=False)\n",
    "        print('Top 10 genes: most protein-altering mutations\\n', des_mut_cnt.head(10))\n",
    "        \n",
    "        #ascending sort\n",
    "        asc_mut_cnt = mut_cnt.sort_values(['obs_fr'], ascending=False)\n",
    "        print('Top 10 genes: highest fraction of protein-altering mutations', asc_mut_cnt.head(10))\n",
    "        \n",
    "        #merge 'mut_cnt' with 'gene_expected'\n",
    "        mut_cnt_more = mut_cnt.merge(ge, on='symbol')\n",
    "        mut_cnt_more['exp_fr'] = mut_cnt_more.exp_alt/(mut_cnt_more.exp_syn + mut_cnt_more.exp_alt)\n",
    "        \n",
    "        #remove genes with obs_fr < exp_fr\n",
    "        mut_cnt_more = mut_cnt_more.loc[mut_cnt_more.obs_fr >= mut_cnt_more.exp_fr]\n",
    "        \n",
    "        #Chi-squared test - using .05 p-value\n",
    "        ps = []\n",
    "        for gene in mut_cnt_more:\n",
    "            p = st.chi2_contingency([mut_cnt_more.obs_syn, mut_cnt_more.obs_alt],[mut_cnt_more.exp_syn, mut_cnt_more.exp_alt])\n",
    "            ps.append(p)"
   ]
  }
 ],
 "metadata": {
  "kernelspec": {
   "display_name": "Python 3 (ipykernel)",
   "language": "python",
   "name": "python3"
  },
  "language_info": {
   "codemirror_mode": {
    "name": "ipython",
    "version": 3
   },
   "file_extension": ".py",
   "mimetype": "text/x-python",
   "name": "python",
   "nbconvert_exporter": "python",
   "pygments_lexer": "ipython3",
   "version": "3.9.12"
  }
 },
 "nbformat": 4,
 "nbformat_minor": 5
}
