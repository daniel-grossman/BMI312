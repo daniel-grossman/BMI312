{
 "cells": [
  {
   "cell_type": "markdown",
   "id": "b1e37697",
   "metadata": {},
   "source": [
    "# HW4 - Daniel Grossman"
   ]
  },
  {
   "cell_type": "markdown",
   "id": "b482bf78",
   "metadata": {},
   "source": [
    "Importing our packages and setting working directory:"
   ]
  },
  {
   "cell_type": "code",
   "execution_count": null,
   "id": "ea6b37f0",
   "metadata": {},
   "outputs": [],
   "source": [
    "import os\n",
    "import pandas as pd\n",
    "import re\n",
    "os.chdir('/Users/danielgrossman/Documents/Coursework/BMI 312/Data/')"
   ]
  },
  {
   "cell_type": "code",
   "execution_count": null,
   "id": "fe79b833",
   "metadata": {
    "scrolled": false
   },
   "outputs": [],
   "source": [
    "files = os.listdir('/Users/danielgrossman/Documents/Coursework/BMI 312/Data/');\n",
    "for f in files:\n",
    "    if (f.endswith('.somatic.maf.short.gz')):\n",
    "        #1) SOMATIC SHORT LOOP:\n",
    "        #read in somatic short files\n",
    "        somatic = pd.read_csv(f, sep='\\t', compression='gzip', low_memory=False, comment='#')\n",
    "        \n",
    "        #parsing protein position + length\n",
    "        parsed = [row.split(\"/\") for row in somatic['prot.pos']]\n",
    "        position, length = [x[0] for x in parsed], [x[1] for x in parsed]\n",
    "        \n",
    "        #adding protein info as columns\n",
    "        somatic['protein_position'] = position\n",
    "        somatic['protein_length'] = length\n",
    "        \n",
    "        #parsing allele top + bottom\n",
    "        parsedaa = somatic['aa'].str.extract('(?P<reference_allele>\\w+)/(?P<alternative_allele>\\w+)')\n",
    "        \n",
    "        #joining parsed alleles as new columns\n",
    "        somatic = somatic.join(parsedaa)\n",
    "        \n",
    "        \n",
    "        #2) CLINICAL + SOMATIC MERGE:\n",
    "        #setting pattern for re.findall\n",
    "        idtype = '(^[\\w\\d]+\\-[\\w\\d]+\\-[\\w\\d]+)\\-'\n",
    "        \n",
    "        #getting patient ID's, then adding as column\n",
    "        patientID = [re.findall(idtype, s)[0] for s in somatic['sample_id']]\n",
    "        somatic['patient_ID'] = patientID\n",
    "        somatic['patient_ID'] = somatic['patient_ID'].astype(str)\n",
    "        \n",
    "    if (f.endswith('.clinical.short.txt')):\n",
    "        clinical = pd.read_csv(f, sep='\\t', index_col=0)\n",
    "        clinical_somatic = clinical.join(somatic.set_index('patient'), on='patient', how='inner')\n",
    "        clinical_somatic.shape[0]\n",
    "        clinical_somatic.shape[1]\n",
    "        clinical_somatic.to_csv(f, sep=\"\\t\", compression=\"gzip\")"
   ]
  }
 ],
 "metadata": {
  "kernelspec": {
   "display_name": "Python 3 (ipykernel)",
   "language": "python",
   "name": "python3"
  },
  "language_info": {
   "codemirror_mode": {
    "name": "ipython",
    "version": 3
   },
   "file_extension": ".py",
   "mimetype": "text/x-python",
   "name": "python",
   "nbconvert_exporter": "python",
   "pygments_lexer": "ipython3",
   "version": "3.9.7"
  }
 },
 "nbformat": 4,
 "nbformat_minor": 5
}
